{
 "cells": [
  {
   "cell_type": "markdown",
   "metadata": {},
   "source": [
    "# Степенной метод нахождения собственных чисел и векторов матрицы"
   ]
  },
  {
   "cell_type": "code",
   "execution_count": 1,
   "metadata": {},
   "outputs": [],
   "source": [
    "import numpy as np\n",
    "import numpy.linalg as linalg\n",
    "\n",
    "import warnings\n",
    "warnings.filterwarnings('ignore')"
   ]
  },
  {
   "cell_type": "code",
   "execution_count": 2,
   "metadata": {},
   "outputs": [],
   "source": [
    "A = np.array([[-1.536984, -0.199070, 0.958551],\n",
    "             [-0.199070, 1.177416, 0.069925],\n",
    "             [0.958551, 0.069925, -1.551506]])"
   ]
  },
  {
   "cell_type": "markdown",
   "metadata": {},
   "source": [
    "1."
   ]
  },
  {
   "cell_type": "code",
   "execution_count": 3,
   "metadata": {},
   "outputs": [],
   "source": [
    "def get_lambda(A, x):\n",
    "    n = A.shape[0]\n",
    "    x1 = A @ x\n",
    "    i = 1\n",
    "    return x1[i] / x[i]"
   ]
  },
  {
   "cell_type": "code",
   "execution_count": 4,
   "metadata": {},
   "outputs": [],
   "source": [
    "def get_lambda1(A, e):\n",
    "    n = A.shape[0]\n",
    "    Y_k = np.ones((n, 1))\n",
    "    Y_k1 = A @ Y_k\n",
    "    l_k = get_lambda(A, Y_k)\n",
    "    l_k1 = get_lambda(A, Y_k1)\n",
    "    k = 2\n",
    "    while abs(l_k1 - l_k) >= e:\n",
    "        k += 1\n",
    "        Y_k1 = A @ Y_k1\n",
    "        l_k = l_k1\n",
    "        l_k1 = get_lambda(A, Y_k1)\n",
    "    return l_k1, k"
   ]
  },
  {
   "cell_type": "code",
   "execution_count": 5,
   "metadata": {},
   "outputs": [],
   "source": [
    "l, k = get_lambda1(A, 10**-5)"
   ]
  },
  {
   "cell_type": "code",
   "execution_count": 6,
   "metadata": {},
   "outputs": [
    {
     "data": {
      "text/plain": [
       "array([-2.5126064])"
      ]
     },
     "execution_count": 6,
     "metadata": {},
     "output_type": "execute_result"
    }
   ],
   "source": [
    "l"
   ]
  },
  {
   "cell_type": "code",
   "execution_count": 7,
   "metadata": {},
   "outputs": [
    {
     "data": {
      "text/plain": [
       "28"
      ]
     },
     "execution_count": 7,
     "metadata": {},
     "output_type": "execute_result"
    }
   ],
   "source": [
    "k"
   ]
  },
  {
   "cell_type": "markdown",
   "metadata": {},
   "source": [
    "2."
   ]
  },
  {
   "cell_type": "code",
   "execution_count": 8,
   "metadata": {},
   "outputs": [],
   "source": [
    "def eytken_method(A, e):\n",
    "    n = A.shape[0]\n",
    "    Y_k = np.ones((n, 1))\n",
    "    Y_k1 = A @ Y_k\n",
    "    Y_k2 = A @ Y_k1\n",
    "    l_k = get_lambda(A, Y_k)\n",
    "    l_k1 = get_lambda(A, Y_k1)\n",
    "    l_k2 = get_lambda(A, Y_k2)\n",
    "    k = 3\n",
    "    while abs(l_k - l_k1) >= e:\n",
    "        k += 1\n",
    "        Y_k2 = A @ Y_k2\n",
    "        l_k1 = (l_k * l_k2 - l_k1 * l_k1) / (l_k - 2 * l_k1 + l_k2)\n",
    "        l_k3 = get_lambda(A, Y_k2)\n",
    "        l_k2 = (l_k1 * l_k3 - l_k2 * l_k2) / (l_k1 - 2 * l_k2 + l_k3)\n",
    "        l_k = l_k1\n",
    "        l_k1 = l_k2\n",
    "        l_k2 = l_k3\n",
    "    return l_k1, k"
   ]
  },
  {
   "cell_type": "code",
   "execution_count": 9,
   "metadata": {},
   "outputs": [],
   "source": [
    "l, k = eytken_method(A, 10**-5)"
   ]
  },
  {
   "cell_type": "code",
   "execution_count": 10,
   "metadata": {},
   "outputs": [
    {
     "data": {
      "text/plain": [
       "array([-2.51252989])"
      ]
     },
     "execution_count": 10,
     "metadata": {},
     "output_type": "execute_result"
    }
   ],
   "source": [
    "l"
   ]
  },
  {
   "cell_type": "code",
   "execution_count": 11,
   "metadata": {},
   "outputs": [
    {
     "data": {
      "text/plain": [
       "24"
      ]
     },
     "execution_count": 11,
     "metadata": {},
     "output_type": "execute_result"
    }
   ],
   "source": [
    "k"
   ]
  },
  {
   "cell_type": "markdown",
   "metadata": {},
   "source": [
    "4."
   ]
  },
  {
   "cell_type": "code",
   "execution_count": 12,
   "metadata": {},
   "outputs": [],
   "source": [
    "def scalar_product_method(A, e):\n",
    "    n = A.shape[0]\n",
    "    Y_k = np.ones((n, 1))\n",
    "    Y_k1 = A @ Y_k\n",
    "    Y_k2 = A @ Y_k1\n",
    "    l_k = (Y_k1.reshape(1, -1) @ Y_k) / (Y_k.reshape(1, -1) @ Y_k)\n",
    "    l_k1 = (Y_k2.reshape(1, -1) @ Y_k1) / (Y_k1.reshape(1, -1) @ Y_k1)\n",
    "    k = 3\n",
    "    while abs(l_k1 - l_k) >= e:\n",
    "        k += 1\n",
    "        Y_k1 = Y_k2\n",
    "        Y_k2 = A @ Y_k1\n",
    "        l_k = l_k1\n",
    "        l_k1 = (Y_k2.reshape(1, -1) @ Y_k1) / (Y_k1.reshape(1, -1) @ Y_k1)\n",
    "    return l_k1, k"
   ]
  },
  {
   "cell_type": "code",
   "execution_count": 13,
   "metadata": {},
   "outputs": [],
   "source": [
    "l1, k = scalar_product_method(A, 10**-5)"
   ]
  },
  {
   "cell_type": "code",
   "execution_count": 14,
   "metadata": {},
   "outputs": [
    {
     "data": {
      "text/plain": [
       "array([[-2.51260288]])"
      ]
     },
     "execution_count": 14,
     "metadata": {},
     "output_type": "execute_result"
    }
   ],
   "source": [
    "l1"
   ]
  },
  {
   "cell_type": "code",
   "execution_count": 15,
   "metadata": {},
   "outputs": [
    {
     "data": {
      "text/plain": [
       "16"
      ]
     },
     "execution_count": 15,
     "metadata": {},
     "output_type": "execute_result"
    }
   ],
   "source": [
    "k"
   ]
  },
  {
   "cell_type": "markdown",
   "metadata": {},
   "source": [
    "5."
   ]
  },
  {
   "cell_type": "code",
   "execution_count": 16,
   "metadata": {},
   "outputs": [],
   "source": [
    "def do_iter(A, k):\n",
    "    n = A.shape[0]\n",
    "    Y_k = np.ones((n, 1))\n",
    "    for i in range(k):\n",
    "        Y_k = A @ Y_k\n",
    "    return Y_k"
   ]
  },
  {
   "cell_type": "code",
   "execution_count": 17,
   "metadata": {},
   "outputs": [],
   "source": [
    "def get_lambda2(A, l1, k):\n",
    "    Y_k = do_iter(A, k - 1)\n",
    "    Y_k1 = A @ Y_k\n",
    "    Y_k2 = A @ Y_k1\n",
    "    i = 1\n",
    "    return (Y_k2[i] - l1 * Y_k1[i]) / (Y_k1[i] - l1 * Y_k[i])"
   ]
  },
  {
   "cell_type": "code",
   "execution_count": 18,
   "metadata": {},
   "outputs": [
    {
     "data": {
      "text/plain": [
       "array([[1.18760669]])"
      ]
     },
     "execution_count": 18,
     "metadata": {},
     "output_type": "execute_result"
    }
   ],
   "source": [
    "get_lambda2(A, l1, 20)"
   ]
  },
  {
   "cell_type": "markdown",
   "metadata": {},
   "source": [
    "7."
   ]
  },
  {
   "cell_type": "code",
   "execution_count": 19,
   "metadata": {},
   "outputs": [],
   "source": [
    "def vilandt_method(A, l1, k):\n",
    "    n = A.shape[0]\n",
    "    W = linalg.inv(A - l1 * np.eye(n))\n",
    "    Y_k = do_iter(W, k)\n",
    "    Y_k1 = W @ Y_k\n",
    "    i = 1\n",
    "    return l1 + Y_k[i] / Y_k1[i]"
   ]
  },
  {
   "cell_type": "code",
   "execution_count": 20,
   "metadata": {},
   "outputs": [
    {
     "data": {
      "text/plain": [
       "array([[-2.51260398]])"
      ]
     },
     "execution_count": 20,
     "metadata": {},
     "output_type": "execute_result"
    }
   ],
   "source": [
    "vilandt_method(A, l1, 20)"
   ]
  },
  {
   "cell_type": "code",
   "execution_count": null,
   "metadata": {},
   "outputs": [],
   "source": []
  }
 ],
 "metadata": {
  "kernelspec": {
   "display_name": "Python 3",
   "language": "python",
   "name": "python3"
  },
  "language_info": {
   "codemirror_mode": {
    "name": "ipython",
    "version": 3
   },
   "file_extension": ".py",
   "mimetype": "text/x-python",
   "name": "python",
   "nbconvert_exporter": "python",
   "pygments_lexer": "ipython3",
   "version": "3.6.7"
  }
 },
 "nbformat": 4,
 "nbformat_minor": 2
}
