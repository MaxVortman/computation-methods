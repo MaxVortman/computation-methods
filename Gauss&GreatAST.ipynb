{
 "cells": [
  {
   "cell_type": "markdown",
   "metadata": {},
   "source": [
    "# Квадратурные формулы. Наивысшая АСТ."
   ]
  },
  {
   "cell_type": "markdown",
   "metadata": {},
   "source": [
    "## Формула Гаусса\n",
    "\n",
    "$p(x)\\equiv1, \\, [a, b] = [-1, 1]$\n",
    "\n",
    "$\\int_{-1}^1f(x)dx$"
   ]
  },
  {
   "cell_type": "markdown",
   "metadata": {},
   "source": [
    "### Полином Лежандра\n",
    "\n",
    "$P_n(x) = \\frac {\\displaystyle 1} {\\displaystyle 2^n n!} \\frac {\\displaystyle d^n} {\\displaystyle dx^n} (x^2 - 1)^n$\n",
    "\n",
    "Корни полинома -- узлы в формуле Гауса."
   ]
  },
  {
   "cell_type": "markdown",
   "metadata": {},
   "source": [
    "$dx \\qquad x = \\frac {a-b} {2} t + \\frac {b+a} {2} \\\\\n",
    "dx = \\frac {a-b} {2} dt$\n",
    "\n",
    "$\\int_a^b f(x) = \\frac{b-a} {2} \\int_{-1}^1 f(\\frac {b-a} {2} t + \\frac {b+a} {2})dt = \\frac{b-a} {2} \\sum_{k=1}^n A_k f(\\frac {b-a} {2} t_k + \\frac {b+a} {2})$\n",
    "\n",
    "$A_k$ и $t_k$ -- табличные значения. "
   ]
  },
  {
   "cell_type": "markdown",
   "metadata": {},
   "source": [
    "## Задача №1 Формула Гаусса"
   ]
  },
  {
   "cell_type": "markdown",
   "metadata": {},
   "source": [
    "$f(x)=\\frac {1} {x^2 + 4} \\qquad [0,1]$"
   ]
  },
  {
   "cell_type": "markdown",
   "metadata": {},
   "source": [
    "1. Применить формулу Гаусса для $n=5$\n",
    "2. Посчитать фактическую погрешность\n",
    "3. Сравнить с квадратурной формулой Симпсона $N=2, \\, h=\\frac {b-a} {2N}$ по 5 узлов."
   ]
  },
  {
   "cell_type": "code",
   "execution_count": 1,
   "metadata": {},
   "outputs": [],
   "source": [
    "let ts = [-0.906179845938664; -0.538469310105683; 0.; 0.538469310105683; 0.906179845938664]\n",
    "let As = [0.236926885056189; 0.478628670499366; 0.568888888888889; 0.478628670499366; 0.236926885056189]"
   ]
  },
  {
   "cell_type": "code",
   "execution_count": 2,
   "metadata": {},
   "outputs": [],
   "source": [
    "let a = 0.\n",
    "let b = 1.\n",
    "let N = 2\n",
    "let h = (b - a) / 2. / float N\n",
    "let n = 5"
   ]
  },
  {
   "cell_type": "code",
   "execution_count": 3,
   "metadata": {},
   "outputs": [],
   "source": [
    "let f x = 1. / (x ** 2. + 4.)"
   ]
  },
  {
   "cell_type": "code",
   "execution_count": 4,
   "metadata": {},
   "outputs": [],
   "source": [
    "let gauss = (b - a) / 2. * (List.fold2 (fun acc t A -> acc + A * f ((b - a) / 2. * t + (b + a) / 2.)) 0. ts As)"
   ]
  },
  {
   "cell_type": "markdown",
   "metadata": {},
   "source": [
    "### Точное значение\n",
    "\n",
    "$\\int_0^1 \\frac {1}{x^2 + 4} dx = \\frac 1 2 \\arctan {\\frac x 2} |_0^1 = \\frac 1 2 \\arctan \\frac 1 2$"
   ]
  },
  {
   "cell_type": "code",
   "execution_count": 5,
   "metadata": {},
   "outputs": [],
   "source": [
    "let exact = atan (1. / 2.) / 2."
   ]
  },
  {
   "cell_type": "code",
   "execution_count": 6,
   "metadata": {},
   "outputs": [
    {
     "data": {
      "text/plain": [
       "1.890491375e-10"
      ]
     },
     "execution_count": 6,
     "metadata": {},
     "output_type": "execute_result"
    }
   ],
   "source": [
    "abs (exact - gauss)"
   ]
  },
  {
   "cell_type": "markdown",
   "metadata": {},
   "source": [
    "### Симпсона\n",
    "\n",
    "$h=\\frac{b-a}{2N} \\qquad [x_{k-1}, x_{k+1}] \\, k = 0, \\dots , N$\n",
    "\n",
    "$\\int_a^b f(x) dx = \\frac {b-a}{6N} (f_0 + 4(f_1 + f_3 + \\cdots + f_{2N-1}) + 2(f_2 + f_4 + \\cdots + f_{2N-2}) + f_{2N})$"
   ]
  },
  {
   "cell_type": "code",
   "execution_count": 7,
   "metadata": {},
   "outputs": [],
   "source": [
    "let xk k = a + k * h"
   ]
  },
  {
   "cell_type": "code",
   "execution_count": 8,
   "metadata": {},
   "outputs": [],
   "source": [
    "let simpson = \n",
    "    let term n =\n",
    "        match n % 2 = 0 with\n",
    "        | true  -> 2. * f (xk (float n))\n",
    "        | false -> 4. * f (xk (float n))\n",
    "    h / 3. * (f (xk 0.) + f (xk (2. * (float N))) \n",
    "        + ([1 .. 2 * N - 1] |> List.fold (fun acc k -> acc + term k) 0.))"
   ]
  },
  {
   "cell_type": "code",
   "execution_count": 9,
   "metadata": {},
   "outputs": [
    {
     "data": {
      "text/plain": [
       "2.524555982e-06"
      ]
     },
     "execution_count": 9,
     "metadata": {},
     "output_type": "execute_result"
    }
   ],
   "source": [
    "abs (exact - simpson)"
   ]
  },
  {
   "cell_type": "markdown",
   "metadata": {},
   "source": [
    "## Задача №2 "
   ]
  },
  {
   "cell_type": "markdown",
   "metadata": {},
   "source": [
    "Дано: весовая функция $p(x) = \\sqrt{1 - x}$, 3 узла $0, 0.5, 1$, интеграл функции $f(x) = e^{x} \\cdot \\sqrt {1 - x}$ на промежутке $[0,1]$\n",
    "\n",
    "1. Находим точное значение.\n",
    "2. Строим интерполяционную квадратурную форму с весом $p(x)$ по данным узлам.\n",
    "3. Считаем погрешность.\n",
    "4. Строим квадратурную форму наивысшего АСТ $n=3$.\n",
    "5. Фактическая погрешность, сравниваем с фиксированными узлами."
   ]
  },
  {
   "cell_type": "code",
   "execution_count": 10,
   "metadata": {},
   "outputs": [],
   "source": [
    "let f x = exp(x)*sqrt(1. - x)\n",
    "let realAnswer = 1.030078469278704975539089925665950448932564589318472524730\n",
    "let xs = [0.; 0.5; 1.]"
   ]
  },
  {
   "cell_type": "markdown",
   "metadata": {},
   "source": [
    "$A_k = \\int_a^b p(x) l_k = \\int_a^b p(x) \\frac {w(x)} {(x-x_k)w'(x)}$\n",
    "\n",
    "$w(x)= \\prod_{k=1}^n (x-x_k)$\n",
    "\n",
    "$l_k(x)=\\frac{\\displaystyle w(x)}{\\displaystyle(x-x_k)w(x_k)}=\\prod_{i \\ne k}\\frac{\\displaystyle x-x_i}{\\displaystyle x_k-x_i}$"
   ]
  },
  {
   "cell_type": "markdown",
   "metadata": {},
   "source": [
    "$l_0(x) = 2(x - 0.5)(x - 1)$\n",
    "\n",
    "$l_1(x) = -4x(x - 1)$\n",
    "\n",
    "$l_2(x) = 2x(x - 0.5)$"
   ]
  },
  {
   "cell_type": "markdown",
   "metadata": {},
   "source": [
    "$A_0 = \\int_0^1 \\sqrt {1 - x} \\cdot 2(x - 0.5)(x - 1)dx = 0.171429$\n",
    "\n",
    "$A_1 = \\int_0^1 \\sqrt {1 - x} \\cdot -4x(x - 1)dx = \\frac 4 3$\n",
    "\n",
    "$A_2 = \\int_0^1 \\sqrt {1 - x} \\cdot 2x(x - 0.5)dx = 0.0380952$"
   ]
  },
  {
   "cell_type": "code",
   "execution_count": 11,
   "metadata": {},
   "outputs": [],
   "source": [
    "let As = [0.171429; 4. / 3.; 0.0380952]"
   ]
  },
  {
   "cell_type": "markdown",
   "metadata": {},
   "source": [
    "$\\int_a^b p(x) f(x) dx = \\sum_{k=0}^{n-1} A_k f(x_k)$"
   ]
  },
  {
   "cell_type": "code",
   "execution_count": 12,
   "metadata": {},
   "outputs": [],
   "source": [
    "let interpol = List.fold2 (fun acc A x -> acc + A * f x) 0. As xs"
   ]
  },
  {
   "cell_type": "code",
   "execution_count": 13,
   "metadata": {},
   "outputs": [
    {
     "data": {
      "text/plain": [
       "0.6957798518"
      ]
     },
     "execution_count": 13,
     "metadata": {},
     "output_type": "execute_result"
    }
   ],
   "source": [
    "abs (realAnswer - interpol)"
   ]
  },
  {
   "cell_type": "markdown",
   "metadata": {},
   "source": [
    "### Поиск наивысшей АСТ"
   ]
  },
  {
   "cell_type": "markdown",
   "metadata": {},
   "source": [
    "$\\mu_k = \\int_a^b p(x)x^kdx$"
   ]
  },
  {
   "cell_type": "markdown",
   "metadata": {},
   "source": [
    "$\\mu_0 = \\int_0^1 \\sqrt {1 - x} dx = \\frac {2} {3}$\n",
    "\n",
    "$\\mu_1 = \\int_0^1 \\sqrt {1 - x} \\cdot x dx = \\frac {4} {15}$\n",
    "\n",
    "$\\mu_2 = \\int_0^1 \\sqrt {1 - x} \\cdot x^2 dx = \\frac {16} {105}$\n",
    "\n",
    "$\\mu_3 = \\int_0^1 \\sqrt {1 - x} \\cdot x^3 dx = \\frac {32} {315}$\n",
    "\n",
    "$\\mu_4 = \\int_0^1 \\sqrt {1 - x} \\cdot x^4 dx = \\frac {256} {3465}$\n",
    "\n",
    "$\\mu_5 = \\int_0^1 \\sqrt {1 - x} \\cdot x^5 dx = \\frac {512} {9009}$"
   ]
  },
  {
   "cell_type": "markdown",
   "metadata": {},
   "source": [
    "$w(x) = x^3 + a_1 x^2 + a_2 x + a_3$"
   ]
  },
  {
   "cell_type": "markdown",
   "metadata": {},
   "source": [
    "$a_1\\mu_2 + a_2 \\mu_1 + a_3 \\mu_0 = -\\mu_3$\n",
    "\n",
    "$a_1\\mu_3 + a_2 \\mu_2 + a_3 \\mu_1 = -\\mu_4$\n",
    "\n",
    "$a_1\\mu_4 + a_2 \\mu_3 + a_3 \\mu_2 = -\\mu_5$"
   ]
  },
  {
   "cell_type": "markdown",
   "metadata": {},
   "source": [
    "$a_1 = -\\frac {18} {13}$\n",
    "\n",
    "$a_2 = \\frac {72} {143}$\n",
    "\n",
    "$a_3 = -\\frac {16} {429}$"
   ]
  },
  {
   "cell_type": "markdown",
   "metadata": {},
   "source": [
    "Корни $w(x)$"
   ]
  },
  {
   "cell_type": "code",
   "execution_count": 14,
   "metadata": {},
   "outputs": [],
   "source": [
    "let xs = [0.099194; 0.45013; 0.83529]"
   ]
  },
  {
   "cell_type": "markdown",
   "metadata": {},
   "source": [
    "$l_0(x) = \\frac{(x - 0.45013)(x - 0.83529)}{0.258322585856}$\n",
    "\n",
    "$l_1(x) = \\frac{(x - 0.099194)(x - 0.83529)}{-0.13516650976}$\n",
    "\n",
    "$l_2(x) = \\frac{(x - 0.45013)(x - 0.099194)}{0.28351473536}$"
   ]
  },
  {
   "cell_type": "code",
   "execution_count": 15,
   "metadata": {},
   "outputs": [],
   "source": [
    "let As = [0.233281; 0.307603; 0.125783]"
   ]
  },
  {
   "cell_type": "code",
   "execution_count": 16,
   "metadata": {},
   "outputs": [],
   "source": [
    "let greatAST = List.fold2 (fun acc A x -> acc + A * f x) 0. As xs"
   ]
  },
  {
   "cell_type": "code",
   "execution_count": 17,
   "metadata": {},
   "outputs": [
    {
     "data": {
      "text/plain": [
       "0.310115195"
      ]
     },
     "execution_count": 17,
     "metadata": {},
     "output_type": "execute_result"
    }
   ],
   "source": [
    "abs (realAnswer - greatAST)"
   ]
  },
  {
   "cell_type": "code",
   "execution_count": null,
   "metadata": {},
   "outputs": [],
   "source": []
  }
 ],
 "metadata": {
  "kernelspec": {
   "display_name": "F#",
   "language": "fsharp",
   "name": "ifsharp"
  },
  "language": "fsharp",
  "language_info": {
   "codemirror_mode": "",
   "file_extension": ".fs",
   "mimetype": "text/x-fsharp",
   "name": "fsharp",
   "nbconvert_exporter": "",
   "pygments_lexer": "",
   "version": "4.3.1.0"
  }
 },
 "nbformat": 4,
 "nbformat_minor": 2
}
