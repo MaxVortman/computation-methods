{
 "cells": [
  {
   "cell_type": "markdown",
   "metadata": {},
   "source": [
    "# Метод простой итерации, задание А"
   ]
  },
  {
   "cell_type": "markdown",
   "metadata": {},
   "source": [
    "$Ax=b$\n",
    "\n",
    "$tAx = tb$\n",
    "\n",
    "$x + tAx = x + tb$\n",
    "\n",
    "$x = (E - tA)x + tb$\n",
    "\n",
    "$x = Cx + d$"
   ]
  },
  {
   "cell_type": "markdown",
   "metadata": {},
   "source": [
    "1) Если $A = A^*$, $A > 0$, то $t_{опт} = \\frac 2 {\\lambda_{min} + \\lambda_{max}}$, и МПИ сходится.\n",
    "\n",
    "2) Если $A$ имеет диагональное преобладание, то $C= E − D^{-1}A$, $d = D^{-1}b$,\n",
    "где D — диагональная матрица, у которой на диагонали стоят диагональные элементы матрицы A."
   ]
  },
  {
   "cell_type": "code",
   "execution_count": 1,
   "metadata": {},
   "outputs": [],
   "source": [
    "import numpy as np\n",
    "import numpy.linalg as linalg\n",
    "\n",
    "import warnings\n",
    "warnings.filterwarnings('ignore')"
   ]
  },
  {
   "cell_type": "code",
   "execution_count": 25,
   "metadata": {},
   "outputs": [],
   "source": [
    "def transform(A, b, D):\n",
    "    n = A.shape[0]\n",
    "    C = np.eye(n) - D @ A\n",
    "    d = D @ b.reshape(-1,1)\n",
    "    return C, d"
   ]
  },
  {
   "cell_type": "code",
   "execution_count": 26,
   "metadata": {},
   "outputs": [],
   "source": [
    "D = np.array([[1., -0.2, 0.1],\n",
    "              [-0.1, 1.0, -0.1],\n",
    "             [-0.3, 0.2, -1.]])\n",
    "G = 0.1 * np.eye(3)"
   ]
  },
  {
   "cell_type": "code",
   "execution_count": 27,
   "metadata": {},
   "outputs": [],
   "source": [
    "k = 4\n",
    "A = D + k * G\n",
    "b = np.array([0.4, 0.8, 0.2])"
   ]
  },
  {
   "cell_type": "code",
   "execution_count": 28,
   "metadata": {},
   "outputs": [
    {
     "data": {
      "text/plain": [
       "array([[ 1.4, -0.2,  0.1],\n",
       "       [-0.1,  1.4, -0.1],\n",
       "       [-0.3,  0.2, -0.6]])"
      ]
     },
     "execution_count": 28,
     "metadata": {},
     "output_type": "execute_result"
    }
   ],
   "source": [
    "A"
   ]
  },
  {
   "cell_type": "markdown",
   "metadata": {},
   "source": [
    "Так как у нас диагональ преобладает."
   ]
  },
  {
   "cell_type": "code",
   "execution_count": 6,
   "metadata": {},
   "outputs": [],
   "source": [
    "D = A * np.eye(3)"
   ]
  },
  {
   "cell_type": "code",
   "execution_count": 7,
   "metadata": {},
   "outputs": [],
   "source": [
    "C, d = transform(A, b, linalg.inv(D))"
   ]
  },
  {
   "cell_type": "code",
   "execution_count": 8,
   "metadata": {},
   "outputs": [
    {
     "data": {
      "text/plain": [
       "0.8333333333333334"
      ]
     },
     "execution_count": 8,
     "metadata": {},
     "output_type": "execute_result"
    }
   ],
   "source": [
    "C_norm = linalg.norm(C, ord=np.inf)\n",
    "C_norm"
   ]
  },
  {
   "cell_type": "code",
   "execution_count": 9,
   "metadata": {},
   "outputs": [
    {
     "data": {
      "text/plain": [
       "array([-0.63536368,  0.06579317,  0.5695705 ])"
      ]
     },
     "execution_count": 9,
     "metadata": {},
     "output_type": "execute_result"
    }
   ],
   "source": [
    "linalg.eigvalsh(C)"
   ]
  },
  {
   "cell_type": "code",
   "execution_count": 10,
   "metadata": {},
   "outputs": [],
   "source": [
    "def do_iter(C, d, k):\n",
    "    x = np.ones(shape=(3,1))\n",
    "    for i in range(k):\n",
    "        x = C @ x + d\n",
    "    return x"
   ]
  },
  {
   "cell_type": "code",
   "execution_count": 11,
   "metadata": {},
   "outputs": [
    {
     "data": {
      "text/plain": [
       "array([[ 0.39201451],\n",
       "       [ 0.57531761],\n",
       "       [-0.33756807]])"
      ]
     },
     "execution_count": 11,
     "metadata": {},
     "output_type": "execute_result"
    }
   ],
   "source": [
    "x_15 = do_iter(C, d, 15)\n",
    "x_15"
   ]
  },
  {
   "cell_type": "code",
   "execution_count": 12,
   "metadata": {},
   "outputs": [],
   "source": [
    "def calc_upper_est(C, d, k):\n",
    "    x_0 = do_iter(C, d, 0)\n",
    "    x_1 = do_iter(C, d, 1)\n",
    "    C_norm = linalg.norm(C, ord=np.inf)\n",
    "    return (C_norm ** k) * linalg.norm(x_1 - x_0, ord=np.inf) / (1 - C_norm)"
   ]
  },
  {
   "cell_type": "code",
   "execution_count": 13,
   "metadata": {},
   "outputs": [
    {
     "data": {
      "text/plain": [
       "0.5841492436698708"
      ]
     },
     "execution_count": 13,
     "metadata": {},
     "output_type": "execute_result"
    }
   ],
   "source": [
    "calc_upper_est(C, d, 15)"
   ]
  },
  {
   "cell_type": "code",
   "execution_count": 14,
   "metadata": {},
   "outputs": [],
   "source": [
    "def find_k(C, d, e):\n",
    "    k = 0\n",
    "    est = calc_upper_est(C, d, k)\n",
    "    while est >= e:\n",
    "        k += 1\n",
    "        est = calc_upper_est(C, d, k)\n",
    "    return k"
   ]
  },
  {
   "cell_type": "code",
   "execution_count": 15,
   "metadata": {},
   "outputs": [
    {
     "data": {
      "text/plain": [
       "76"
      ]
     },
     "execution_count": 15,
     "metadata": {},
     "output_type": "execute_result"
    }
   ],
   "source": [
    "find_k(C, d, 10**-5)"
   ]
  },
  {
   "cell_type": "code",
   "execution_count": 16,
   "metadata": {},
   "outputs": [
    {
     "data": {
      "text/plain": [
       "8.639086248605786e-06"
      ]
     },
     "execution_count": 16,
     "metadata": {},
     "output_type": "execute_result"
    }
   ],
   "source": [
    "calc_upper_est(C, d, 76)"
   ]
  },
  {
   "cell_type": "code",
   "execution_count": 17,
   "metadata": {},
   "outputs": [],
   "source": [
    "def get_lambda(C, d, k):\n",
    "    x_k = do_iter(C, d, k)\n",
    "    x_k_1 = do_iter(C, d, k-1)\n",
    "    x_k_2 = do_iter(C, d, k-2)\n",
    "    y_k = x_k - x_k_1\n",
    "    y_k_1 = x_k_1 - x_k_2\n",
    "    i = np.argmax(abs(y_k))\n",
    "    return y_k[i] / y_k_1[i]"
   ]
  },
  {
   "cell_type": "code",
   "execution_count": 18,
   "metadata": {},
   "outputs": [],
   "source": [
    "def lusternik(C, d, k):\n",
    "    x_k = do_iter(C, d, k)\n",
    "    x_k_1 = do_iter(C, d, k-1)\n",
    "    l = get_lambda(C, d, 20)\n",
    "    return x_k + l /  (1 - l) * (x_k - x_k_1)"
   ]
  },
  {
   "cell_type": "code",
   "execution_count": 19,
   "metadata": {},
   "outputs": [
    {
     "data": {
      "text/plain": [
       "array([[ 0.39201452],\n",
       "       [ 0.5753176 ],\n",
       "       [-0.33756806]])"
      ]
     },
     "execution_count": 19,
     "metadata": {},
     "output_type": "execute_result"
    }
   ],
   "source": [
    "lusternik(C, d, 76)"
   ]
  },
  {
   "cell_type": "markdown",
   "metadata": {},
   "source": [
    "# Метод Зейделя, задание А"
   ]
  },
  {
   "cell_type": "code",
   "execution_count": null,
   "metadata": {},
   "outputs": [],
   "source": []
  },
  {
   "cell_type": "code",
   "execution_count": 20,
   "metadata": {},
   "outputs": [],
   "source": [
    "A = np.array([[2.20886, 0.31984, 0.15751],\n",
    "             [0.31984, 3.18182, 0.52629],\n",
    "             [0.15751, 0.52629, 4.98873]])\n",
    "b = np.array([2.18310, 6.63605, 6.44335])"
   ]
  },
  {
   "cell_type": "code",
   "execution_count": 29,
   "metadata": {},
   "outputs": [],
   "source": [
    "def zeydel_transform(A, b):\n",
    "    D = np.eye(3) * A\n",
    "    R = np.array([[1, 1, 1],\n",
    "                 [0, 1, 1],\n",
    "                 [0, 0, 1]]) * A\n",
    "    C = -linalg.inv(D + R.T) @ R\n",
    "    d = -linalg.inv(D + R.T) @ b.reshape(-1, 1)\n",
    "    return C, d"
   ]
  },
  {
   "cell_type": "code",
   "execution_count": 30,
   "metadata": {},
   "outputs": [],
   "source": [
    "C, d = zeydel_transform(A, b)"
   ]
  },
  {
   "cell_type": "code",
   "execution_count": 31,
   "metadata": {},
   "outputs": [
    {
     "data": {
      "text/plain": [
       "0.6071428571428571"
      ]
     },
     "execution_count": 31,
     "metadata": {},
     "output_type": "execute_result"
    }
   ],
   "source": [
    "linalg.norm(C, ord=np.inf)"
   ]
  },
  {
   "cell_type": "code",
   "execution_count": 24,
   "metadata": {},
   "outputs": [
    {
     "data": {
      "text/plain": [
       "0.0003130117733854205"
      ]
     },
     "execution_count": 24,
     "metadata": {},
     "output_type": "execute_result"
    }
   ],
   "source": [
    "calc_upper_est(C, d, k=20)"
   ]
  },
  {
   "cell_type": "markdown",
   "metadata": {},
   "source": [
    "# Метод простой итерации с оптимальным параметром, задание А"
   ]
  },
  {
   "cell_type": "code",
   "execution_count": 33,
   "metadata": {},
   "outputs": [],
   "source": [
    "def gershgorin_borders(A):\n",
    "    n = A.shape[0]\n",
    "    ms = []\n",
    "    Ms = []\n",
    "    for i in range(n):\n",
    "        s = 0\n",
    "        for j in range(n):\n",
    "            if i == j:\n",
    "                continue\n",
    "            s += abs(A[i][j])\n",
    "        Ms.append(s + A[i][i])\n",
    "        ms.append(-s + A[i][i])\n",
    "    return min(ms), max(Ms)"
   ]
  },
  {
   "cell_type": "code",
   "execution_count": 37,
   "metadata": {},
   "outputs": [
    {
     "data": {
      "text/plain": [
       "(1.73151, 5.67253)"
      ]
     },
     "execution_count": 37,
     "metadata": {},
     "output_type": "execute_result"
    }
   ],
   "source": [
    "m, M = gershgorin_borders(A)\n",
    "m, M"
   ]
  },
  {
   "cell_type": "code",
   "execution_count": 38,
   "metadata": {},
   "outputs": [],
   "source": [
    "t_opt = 2 / (m + M)"
   ]
  },
  {
   "cell_type": "code",
   "execution_count": 39,
   "metadata": {},
   "outputs": [],
   "source": [
    "def transform_opt(A, b, t):\n",
    "    n = A.shape[0]\n",
    "    C = np.eye(n) - t * A\n",
    "    d = t * b.reshape(-1,1)\n",
    "    return C, d"
   ]
  },
  {
   "cell_type": "code",
   "execution_count": 40,
   "metadata": {},
   "outputs": [],
   "source": [
    "C, d = transform_opt(A, b, t_opt)"
   ]
  },
  {
   "cell_type": "code",
   "execution_count": 42,
   "metadata": {},
   "outputs": [
    {
     "data": {
      "text/plain": [
       "0.5322796743399552"
      ]
     },
     "execution_count": 42,
     "metadata": {},
     "output_type": "execute_result"
    }
   ],
   "source": [
    "linalg.norm(C, ord=np.inf)"
   ]
  },
  {
   "cell_type": "code",
   "execution_count": 49,
   "metadata": {},
   "outputs": [],
   "source": [
    "def find_est_e(C, d, e):\n",
    "    k = find_k(C, d, e)\n",
    "    return do_iter(C, d, k), k"
   ]
  },
  {
   "cell_type": "code",
   "execution_count": 50,
   "metadata": {},
   "outputs": [
    {
     "data": {
      "text/plain": [
       "(array([[0.64475319],\n",
       "        [1.84268472],\n",
       "        [1.07682539]]), 12)"
      ]
     },
     "execution_count": 50,
     "metadata": {},
     "output_type": "execute_result"
    }
   ],
   "source": [
    "find_est_e(C, d, 10**-3)"
   ]
  },
  {
   "cell_type": "code",
   "execution_count": 47,
   "metadata": {},
   "outputs": [],
   "source": [
    "def find_teor_k(M, m, e):\n",
    "    return np.log(e) / np.log((M - m) / (M + m))"
   ]
  },
  {
   "cell_type": "code",
   "execution_count": 48,
   "metadata": {},
   "outputs": [
    {
     "data": {
      "text/plain": [
       "10.954497600288681"
      ]
     },
     "execution_count": 48,
     "metadata": {},
     "output_type": "execute_result"
    }
   ],
   "source": [
    "find_teor_k(M, m, 10**-3)"
   ]
  },
  {
   "cell_type": "code",
   "execution_count": null,
   "metadata": {},
   "outputs": [],
   "source": []
  }
 ],
 "metadata": {
  "kernelspec": {
   "display_name": "Python 3",
   "language": "python",
   "name": "python3"
  },
  "language_info": {
   "codemirror_mode": {
    "name": "ipython",
    "version": 3
   },
   "file_extension": ".py",
   "mimetype": "text/x-python",
   "name": "python",
   "nbconvert_exporter": "python",
   "pygments_lexer": "ipython3",
   "version": "3.6.7"
  }
 },
 "nbformat": 4,
 "nbformat_minor": 2
}
