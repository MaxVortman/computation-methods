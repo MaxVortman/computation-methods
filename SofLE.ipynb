{
 "cells": [
  {
   "cell_type": "code",
   "execution_count": 130,
   "metadata": {},
   "outputs": [],
   "source": [
    "import numpy as np\n",
    "import numpy.linalg as linalg"
   ]
  },
  {
   "cell_type": "markdown",
   "metadata": {},
   "source": [
    "## №1\n",
    "\n",
    "$Ax = b$\n",
    "\n",
    "$A\\overline x = b + \\Delta b$\n",
    "\n",
    "$b = (200, -600)^{T}$\n",
    "\n",
    "$\\Delta b = (-1, -1)^{T}$\n",
    "\n",
    "$\\mu(A)- ?$\n",
    "\n",
    "$\\displaystyle \\delta x = \\frac {\\| \\overline{x} - x \\|} {\\| x \\|} = ?$\n",
    "\n",
    "И оценить теоретическую: $\\delta x \\le \\mu(A)\\delta b$"
   ]
  },
  {
   "cell_type": "markdown",
   "metadata": {},
   "source": [
    "### Формула Крамера\n",
    "\n",
    "$\\displaystyle x_1 =\\frac {\\Delta_{x_1}} {\\Delta} \\\\\n",
    "\\displaystyle x_2 =\\frac {\\Delta_{x_2}} {\\Delta} \\\\\n",
    "\\cdots \\\\\n",
    "\\displaystyle x_n =\\frac {\\Delta_{x_n}} {\\Delta}$"
   ]
  },
  {
   "cell_type": "markdown",
   "metadata": {},
   "source": [
    "$\\Delta x_i = \\begin{vmatrix}\n",
    "a_{11} & \\dots & b_{1} & \\dots & a_{1n} \\\\ \n",
    "\\vdots & \\vdots & \\vdots & \\vdots & \\vdots \\\\ \n",
    "\\vdots & \\vdots & \\vdots & \\vdots & \\vdots \\\\\n",
    "\\vdots & \\vdots & \\vdots & \\vdots & \\vdots \\\\ \n",
    "a_{n1} & \\dots & b_{n} & \\dots & a_{nn}  \\notag\n",
    "\\end{vmatrix}$\n",
    "\n",
    "На \"итом\" месте."
   ]
  },
  {
   "cell_type": "markdown",
   "metadata": {},
   "source": [
    "#### Вариант 6"
   ]
  },
  {
   "cell_type": "code",
   "execution_count": 131,
   "metadata": {},
   "outputs": [],
   "source": [
    "A = np.array([[-402.50, 200.5], \n",
    "              [1203., -603.]])"
   ]
  },
  {
   "cell_type": "code",
   "execution_count": 132,
   "metadata": {},
   "outputs": [],
   "source": [
    "def Cramer2(A, b):\n",
    "    det_A = linalg.det(A)\n",
    "    det_dx1 = linalg.det(np.column_stack([b, A[:, 1]]))\n",
    "    det_dx2 = linalg.det(np.column_stack([A[:, 0], b]))\n",
    "    x1 = det_dx1 / det_A\n",
    "    x2 = det_dx2 / det_A\n",
    "    return np.array([x1, x2])"
   ]
  },
  {
   "cell_type": "code",
   "execution_count": 133,
   "metadata": {},
   "outputs": [],
   "source": [
    "b = np.array([200, -600])\n",
    "db = np.array([-1, -1])"
   ]
  },
  {
   "cell_type": "code",
   "execution_count": 134,
   "metadata": {},
   "outputs": [
    {
     "data": {
      "text/plain": [
       "array([-0.19920319,  0.59760956])"
      ]
     },
     "execution_count": 134,
     "metadata": {},
     "output_type": "execute_result"
    }
   ],
   "source": [
    "x = Cramer2(A, b)\n",
    "x"
   ]
  },
  {
   "cell_type": "code",
   "execution_count": 135,
   "metadata": {},
   "outputs": [
    {
     "data": {
      "text/plain": [
       "array([0.33432935, 1.66367862])"
      ]
     },
     "execution_count": 135,
     "metadata": {},
     "output_type": "execute_result"
    }
   ],
   "source": [
    "x_broken = Cramer2(A, b + db)\n",
    "x_broken"
   ]
  },
  {
   "cell_type": "code",
   "execution_count": 136,
   "metadata": {},
   "outputs": [
    {
     "data": {
      "text/plain": [
       "1.7838888888889095"
      ]
     },
     "execution_count": 136,
     "metadata": {},
     "output_type": "execute_result"
    }
   ],
   "source": [
    "delta_x = linalg.norm(x_broken - x, ord=np.inf) / linalg.norm(x, ord=np.inf)\n",
    "delta_x"
   ]
  },
  {
   "cell_type": "code",
   "execution_count": 137,
   "metadata": {},
   "outputs": [
    {
     "data": {
      "text/plain": [
       "(1925.3207171314757, 1505.9999999999986)"
      ]
     },
     "execution_count": 137,
     "metadata": {},
     "output_type": "execute_result"
    }
   ],
   "source": [
    "linalg.cond(A, p=np.inf), linalg.det(A)"
   ]
  },
  {
   "cell_type": "markdown",
   "metadata": {},
   "source": [
    "Слабая оценка через число обусловленности"
   ]
  },
  {
   "cell_type": "code",
   "execution_count": 138,
   "metadata": {},
   "outputs": [
    {
     "data": {
      "text/plain": [
       "3.2088678618857926"
      ]
     },
     "execution_count": 138,
     "metadata": {},
     "output_type": "execute_result"
    }
   ],
   "source": [
    "error_score = linalg.cond(A, p=np.inf) * linalg.norm(db, ord=np.inf) / linalg.norm(b, ord=np.inf)\n",
    "error_score"
   ]
  },
  {
   "cell_type": "markdown",
   "metadata": {},
   "source": [
    "Более точная оценка погрешности"
   ]
  },
  {
   "cell_type": "code",
   "execution_count": 139,
   "metadata": {},
   "outputs": [
    {
     "data": {
      "text/plain": [
       "1.783888888888887"
      ]
     },
     "execution_count": 139,
     "metadata": {},
     "output_type": "execute_result"
    }
   ],
   "source": [
    "delta_b = linalg.norm(db, ord=np.inf) / linalg.norm(b, ord=np.inf)\n",
    "alfa = linalg.norm(linalg.inv(A), ord=np.inf) * linalg.norm(b, ord=np.inf) / linalg.norm(x, ord=np.inf)\n",
    "more_attractive_error_score = alfa * delta_b\n",
    "more_attractive_error_score"
   ]
  },
  {
   "cell_type": "markdown",
   "metadata": {},
   "source": [
    "## №2"
   ]
  },
  {
   "cell_type": "code",
   "execution_count": 140,
   "metadata": {},
   "outputs": [
    {
     "data": {
      "text/plain": [
       "(0.33432934926958957, 1.6636786188579173)"
      ]
     },
     "execution_count": 140,
     "metadata": {},
     "output_type": "execute_result"
    }
   ],
   "source": [
    "b = np.array([199, -601])\n",
    "cramer = Cramer2(A, b)\n",
    "cramer[0], cramer[1]"
   ]
  },
  {
   "cell_type": "code",
   "execution_count": 141,
   "metadata": {},
   "outputs": [],
   "source": [
    "def Gauss2(A, b):\n",
    "    a12_1 = A[0, 1] / A[0, 0]\n",
    "    b1_1 = b[0] / A[0, 0]\n",
    "    a22_1 = A[1, 1] - A[1, 0] * a12_1\n",
    "    b2_1 = b[1] - A[1, 0] * b1_1\n",
    "    b2_2 = b2_1 / a22_1\n",
    "    x2 = b2_2\n",
    "    x1 = b1_1 - a12_1 * x2\n",
    "    return np.array([x1, x2])"
   ]
  },
  {
   "cell_type": "code",
   "execution_count": 142,
   "metadata": {},
   "outputs": [
    {
     "data": {
      "text/plain": [
       "(0.334329349269588, 1.6636786188579011)"
      ]
     },
     "execution_count": 142,
     "metadata": {},
     "output_type": "execute_result"
    }
   ],
   "source": [
    "gauss = Gauss2(A, b)\n",
    "gauss[0], gauss[1]"
   ]
  },
  {
   "cell_type": "code",
   "execution_count": 143,
   "metadata": {},
   "outputs": [
    {
     "data": {
      "text/plain": [
       "(-0.13125053032392187, 0.40172766275641164)"
      ]
     },
     "execution_count": 143,
     "metadata": {},
     "output_type": "execute_result"
    }
   ],
   "source": [
    "cramer_bad = Cramer2(A - 500*np.eye(A.shape[0]), b)\n",
    "cramer_bad[0], cramer_bad[1]"
   ]
  },
  {
   "cell_type": "code",
   "execution_count": 144,
   "metadata": {},
   "outputs": [
    {
     "data": {
      "text/plain": [
       "(-0.1312505303239218, 0.4017276627564117)"
      ]
     },
     "execution_count": 144,
     "metadata": {},
     "output_type": "execute_result"
    }
   ],
   "source": [
    "gauss_bad = Gauss2(A - 500*np.eye(A.shape[0]), b)\n",
    "gauss_bad[0], gauss_bad[1]"
   ]
  },
  {
   "cell_type": "markdown",
   "metadata": {},
   "source": [
    "## №3"
   ]
  },
  {
   "cell_type": "code",
   "execution_count": 145,
   "metadata": {},
   "outputs": [],
   "source": [
    "b = np.array([200, 420])\n",
    "x = Gauss2(A, b)\n",
    "A_broken = np.array([[-400.6, 199.8],\n",
    "                    [1198.8, -600.4]])\n",
    "x_broken = Gauss2(A_broken, b)"
   ]
  },
  {
   "cell_type": "code",
   "execution_count": 146,
   "metadata": {},
   "outputs": [
    {
     "data": {
      "text/plain": [
       "(array([-135.99601594, -272.01195219]), array([-203.996, -408.012]))"
      ]
     },
     "execution_count": 146,
     "metadata": {},
     "output_type": "execute_result"
    }
   ],
   "source": [
    "x, x_broken"
   ]
  },
  {
   "cell_type": "code",
   "execution_count": 147,
   "metadata": {},
   "outputs": [
    {
     "data": {
      "text/plain": [
       "0.003765227021041012"
      ]
     },
     "execution_count": 147,
     "metadata": {},
     "output_type": "execute_result"
    }
   ],
   "source": [
    "delta_A = linalg.norm(A_broken - A, ord=np.inf) / linalg.norm(A, ord=np.inf)\n",
    "delta_A"
   ]
  },
  {
   "cell_type": "code",
   "execution_count": 148,
   "metadata": {},
   "outputs": [
    {
     "data": {
      "text/plain": [
       "0.4999782057854324"
      ]
     },
     "execution_count": 148,
     "metadata": {},
     "output_type": "execute_result"
    }
   ],
   "source": [
    "delta_x = linalg.norm(x_broken - x, ord=np.inf) / linalg.norm(x, ord=np.inf)\n",
    "delta_x"
   ]
  },
  {
   "cell_type": "code",
   "execution_count": null,
   "metadata": {},
   "outputs": [],
   "source": []
  }
 ],
 "metadata": {
  "kernelspec": {
   "display_name": "Python 3",
   "language": "python",
   "name": "python3"
  },
  "language_info": {
   "codemirror_mode": {
    "name": "ipython",
    "version": 3
   },
   "file_extension": ".py",
   "mimetype": "text/x-python",
   "name": "python",
   "nbconvert_exporter": "python",
   "pygments_lexer": "ipython3",
   "version": "3.6.7"
  }
 },
 "nbformat": 4,
 "nbformat_minor": 2
}
