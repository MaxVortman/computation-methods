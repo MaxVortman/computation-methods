{
 "cells": [
  {
   "cell_type": "markdown",
   "metadata": {},
   "source": [
    "# Метод замены ядра на вырожденное"
   ]
  },
  {
   "cell_type": "markdown",
   "metadata": {},
   "source": [
    "а) $\\alpha = 0.5\\\\ \\beta = 0.4$\n",
    "\n",
    "$K(x,y)= cos((x-\\alpha)(y-\\beta))\\qquad f(x)=e^{x/2}$\n",
    "\n",
    "$K_2(x, y) = 1 - 0.5(x - \\alpha)^2 (y - \\beta)^2$"
   ]
  },
  {
   "cell_type": "markdown",
   "metadata": {},
   "source": [
    "$\\alpha_1(x)=1 \\qquad \\beta_1(y)=1\\\\\n",
    "\\alpha_2(x)=-0.5(x-\\alpha)^2 \\qquad \\beta_2(y)=(y-\\beta)^2$"
   ]
  },
  {
   "cell_type": "markdown",
   "metadata": {},
   "source": [
    "$A_{ij}=\\int_0^1\\alpha_j(y)\\beta_i(y)dy$\n",
    "\n",
    "$A_{11}=\\int_0^1dy=1$\n",
    "\n",
    "$A_{12}=\\int_0^1-0.5(y-0.5)^2dy=-\\frac 1 6 + \\frac 1 4 - \\frac 1 8 = -\\frac 1 {24}$\n",
    "\n",
    "$A_{21}=\\int_0^1(y-0.4)^2dy=\\frac 1 3 - \\frac 3 5 + \\frac 4 {25} =  \\frac 7 {75}$\n",
    "\n",
    "$A_{22}=\\int_0^1-0.5(y - 0.5)^2 (y - 0.4)^2dy=0.17 + \\frac 9 {40} - \\frac {121} {600} = \\frac {29} {150}$"
   ]
  },
  {
   "cell_type": "markdown",
   "metadata": {},
   "source": [
    "$A = \\begin{vmatrix} \n",
    "        2 & -\\frac 1 {24}\\\\\n",
    "        \\frac 7 {75} & 1 + \\frac {29} {150} \n",
    "     \\end{vmatrix}$"
   ]
  },
  {
   "cell_type": "markdown",
   "metadata": {},
   "source": [
    "$\\Delta = ||A|| = \\frac {4303} {1800}$"
   ]
  },
  {
   "cell_type": "markdown",
   "metadata": {},
   "source": [
    "$\\Delta(x,y)=M_{11} - M_{12}(y-0.4)^2 + M_{21} \\cdot 0.5(x-0.5)^2 - M_{22} \\cdot 0.5(x-0.5)^2(y-0.4)^2$"
   ]
  },
  {
   "cell_type": "markdown",
   "metadata": {},
   "source": [
    "$u(x)=f(x) -  \\int_0^1 \\frac {\\Delta(x,y)} \\Delta f(y) dy$"
   ]
  },
  {
   "cell_type": "code",
   "execution_count": 23,
   "metadata": {},
   "outputs": [],
   "source": [
    "from scipy.integrate import quad\n",
    "def integral_0_1(F):\n",
    "    return quad(F, 0, 1)[0]"
   ]
  },
  {
   "cell_type": "code",
   "execution_count": 24,
   "metadata": {},
   "outputs": [],
   "source": [
    "import numpy as np\n",
    "import numpy.linalg as linalg"
   ]
  },
  {
   "cell_type": "code",
   "execution_count": 25,
   "metadata": {},
   "outputs": [],
   "source": [
    "f = lambda x: np.exp(x / 2)\n",
    "alpha = 0.5\n",
    "beta = 0.4\n",
    "a = [lambda x: 1, lambda x: -0.5*(x - alpha) ** 2]\n",
    "b = [lambda y: 1, lambda y: (y - beta)**2]"
   ]
  },
  {
   "cell_type": "code",
   "execution_count": 26,
   "metadata": {},
   "outputs": [],
   "source": [
    "def get_A(a, b):\n",
    "    A_ij = lambda i,j: integral_0_1(lambda y:a[j](y) * b[i](y))\n",
    "    n = len(a)\n",
    "    A = np.array([[1 * (i == j) + A_ij(i,j) for j in range(n)] for i in range(n)])\n",
    "    return A"
   ]
  },
  {
   "cell_type": "code",
   "execution_count": 27,
   "metadata": {},
   "outputs": [],
   "source": [
    "def get_algebraic_addition(A, i, j):\n",
    "    A = A.tolist()\n",
    "    minor = [row[:j] + row[j+1:] for row in (A[:i] + A[i+1:])]\n",
    "    return ((-1)**(i+j)) * np.array(minor)"
   ]
  },
  {
   "cell_type": "code",
   "execution_count": 28,
   "metadata": {},
   "outputs": [],
   "source": [
    "def get_delta_x_y(A, a, b):\n",
    "    n = len(a)\n",
    "    return lambda x, y: np.array([[\n",
    "                            get_algebraic_addition(A, i, j) * a[i](x) * b[j](y) \n",
    "                                for j in range(n)] \n",
    "                                  for i in range(n)]).sum()"
   ]
  },
  {
   "cell_type": "code",
   "execution_count": 29,
   "metadata": {},
   "outputs": [],
   "source": [
    "def sub_method(a, b, f):\n",
    "    A = get_A(a, b)\n",
    "    delta = get_delta_x_y(A, a, b)\n",
    "    u = lambda x: f(x) - integral_0_1(lambda y: delta(x, y) / linalg.norm(A) * f(y))\n",
    "    return u"
   ]
  },
  {
   "cell_type": "code",
   "execution_count": 30,
   "metadata": {},
   "outputs": [],
   "source": [
    "u = sub_method(a, b, f)"
   ]
  },
  {
   "cell_type": "code",
   "execution_count": 31,
   "metadata": {},
   "outputs": [
    {
     "data": {
      "text/plain": [
       "[0.4468831708866653,\n",
       " 0.46880301506833044,\n",
       " 0.4917211120869268,\n",
       " 0.5156536852722997,\n",
       " 0.540617368649846,\n",
       " 0.5666292173373194,\n",
       " 0.5937067182048354,\n",
       " 0.6218678008047342,\n",
       " 0.6511308485781346,\n",
       " 0.6815147103451823,\n",
       " 0.713038712086177,\n",
       " 0.7457226690209394,\n",
       " 0.779586897993968,\n",
       " 0.8146522301731276,\n",
       " 0.8509400240698097,\n",
       " 0.8884721788886943,\n",
       " 0.9272711482154686,\n",
       " 0.9673599540510469,\n",
       " 1.0087622012010717,\n",
       " 1.0515020920296845,\n",
       " 1.0956044415867936]"
      ]
     },
     "execution_count": 31,
     "metadata": {},
     "output_type": "execute_result"
    }
   ],
   "source": [
    "[u(i) for i in np.arange(0, 1.05, 0.05)]"
   ]
  },
  {
   "cell_type": "code",
   "execution_count": 32,
   "metadata": {},
   "outputs": [],
   "source": [
    "def upper_integral_bound(f):\n",
    "    F = lambda x: integral_0_1(lambda y: f(x, y))\n",
    "    return max([F(i) for i in np.arange(0, 1.05, 0.05)])"
   ]
  },
  {
   "cell_type": "code",
   "execution_count": 33,
   "metadata": {},
   "outputs": [],
   "source": [
    "K = lambda x, y: np.cos((x - alpha)*(y - beta))\n",
    "K2 = lambda x, y: 1 - 0.5 * (x - alpha) ** 2 * (y - beta) ** 2"
   ]
  },
  {
   "cell_type": "code",
   "execution_count": 34,
   "metadata": {},
   "outputs": [],
   "source": [
    "h = upper_integral_bound(lambda x, y: np.abs(K(x, y) - K2(x, y)))"
   ]
  },
  {
   "cell_type": "code",
   "execution_count": 35,
   "metadata": {},
   "outputs": [],
   "source": [
    "def get_G(a, b):\n",
    "    A = get_A(a, b)\n",
    "    delta = get_delta_x_y(A, a, b)\n",
    "    return lambda x, y: delta(x, y) / linalg.norm(A)"
   ]
  },
  {
   "cell_type": "code",
   "execution_count": 36,
   "metadata": {},
   "outputs": [],
   "source": [
    "B = upper_integral_bound(get_G(a, b))"
   ]
  },
  {
   "cell_type": "code",
   "execution_count": 37,
   "metadata": {},
   "outputs": [
    {
     "data": {
      "text/plain": [
       "True"
      ]
     },
     "execution_count": 37,
     "metadata": {},
     "output_type": "execute_result"
    }
   ],
   "source": [
    "1 - h * (1 + B) > 0"
   ]
  },
  {
   "cell_type": "code",
   "execution_count": 38,
   "metadata": {},
   "outputs": [],
   "source": [
    "C = upper_integral_bound(lambda x, y: np.abs(K(x, y)))"
   ]
  },
  {
   "cell_type": "code",
   "execution_count": 39,
   "metadata": {},
   "outputs": [
    {
     "data": {
      "text/plain": [
       "False"
      ]
     },
     "execution_count": 39,
     "metadata": {},
     "output_type": "execute_result"
    }
   ],
   "source": [
    "C < 1"
   ]
  },
  {
   "cell_type": "code",
   "execution_count": 40,
   "metadata": {},
   "outputs": [],
   "source": [
    "def get_error(h, B, f):\n",
    "    N = max([abs(f(i)) for i in np.arange(0, 1.05, 0.05)])\n",
    "    return N * h * (1 + B) ** 2 / (1 - h * (1 + B))"
   ]
  },
  {
   "cell_type": "code",
   "execution_count": 41,
   "metadata": {},
   "outputs": [
    {
     "data": {
      "text/plain": [
       "0.0001564913728597275"
      ]
     },
     "execution_count": 41,
     "metadata": {},
     "output_type": "execute_result"
    }
   ],
   "source": [
    "get_error(h, B, f)"
   ]
  },
  {
   "cell_type": "code",
   "execution_count": null,
   "metadata": {},
   "outputs": [],
   "source": []
  }
 ],
 "metadata": {
  "kernelspec": {
   "display_name": "Python 3",
   "language": "python",
   "name": "python3"
  },
  "language_info": {
   "codemirror_mode": {
    "name": "ipython",
    "version": 3
   },
   "file_extension": ".py",
   "mimetype": "text/x-python",
   "name": "python",
   "nbconvert_exporter": "python",
   "pygments_lexer": "ipython3",
   "version": "3.6.7"
  }
 },
 "nbformat": 4,
 "nbformat_minor": 2
}
