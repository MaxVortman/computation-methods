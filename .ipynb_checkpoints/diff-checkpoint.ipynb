{
  "cells": [
    {
      "metadata": {
        "collapsed": true
      },
      "cell_type": "markdown",
      "source": "## Численное дифференцирование\n\n$f(x) \\, x_j \\in [a, b] \\quad f^{(k)}(x)\\\\ k=1,2$\n$x\\in[a, b]$\n\n1) Строим полином\n2) Дифференцируем его\n\n$f'(x) = \\frac{f(x + h) - f(x)}{h} - \\frac h 2 f''(\\xi), \\, \\xi \\in (x, x+h)$\n\n$f'(x) = \\frac {f(x) - f(x - h)}{h} + \\frac h 2 f''(\\xi), \\, \\xi \\in (x - h, x)$\n\n$f'(x) = \\frac {f(x+h) - f(x - h)}{2h} - \\frac {h^2} 6 f'''(\\xi), \\, \\xi \\in (x - h, x+h)$\n\n$f'(x) = \\frac {-3f(x) + 4f(x + h) - f(x+2h)}{2h} + \\frac {h^2} 3 f''(\\xi), \\, \\xi \\in (x, x + 2h)$\n\n$f'(x) = \\frac {3f(x) - 4f(x - h) + f(x-2h)}{2h} + \\frac {h^2} 3 f''(\\xi), \\, \\xi \\in (x-2h, x)$\n\n$f''(x) = \\frac {f(x+h) - 2f(x) + f(x-h)}{h^2} - \\frac {h^2} {12} f'''(\\xi), \\, \\xi \\in (x-h, x+h)$\n\n### Задание:\n\n$\\frac {\\sin x}{1+x^2} \\, x \\in [-5,5]$\n\n1) Посчитать значение производной в точке (по всем формулам).\n1') Ручками посчитать точное значение производной в точке.\n1'') Найти фактическую погрешность.\n2) Выбрать одну из формул и найти оптимальный шаг."
    },
    {
      "metadata": {},
      "cell_type": "markdown",
      "source": "## Численное интегрирование\n\n$\\int_a^b f(x) dx \\qquad f(x) \\in [a,b]$\n\n$\\int_a^b f(x) dx = \\sum_{k=1}^n A_k f(x_k)$ -- квадратурная формула $x_k \\in [a,b]$\n\n$A_k = \\int_a^b l_k dx \\qquad l_k$ -- коэффициент Лагранжа\n\n$A_k = \\int_a^b \\frac {w(x)}{(x-x_k)w'(x_k)} dx$\n\n$w(x) = \\prod_{k=1}^n (x-x_k)$\n\n$d$ -- целое натуральное, называется алгебраической степенью точности, если квадратурная формула точна для всех полиномов степени не выше $d$ и не точна для полиномов степени $d + 1$\n\n### Квадратурные формулы прямоугольников.\n\n#### Левых:\n\n$\\int_a^b f(x) dx = (b-a)f(a) \\qquad d = 0$\n\n#### Правых:\n\n$\\int_a^b f(x) dx = (b-a)f(b) \\qquad d = 0$\n\n#### Серединных:\n\n$\\int_a^b f(x) dx = (b-a)f(\\frac{a+b}{2}) \\qquad d = 1$\n\n### Составная квадратурная формула.\n\n$h = \\frac {b-a}{N}, \\, x_k= a+ k h, \\, f_k=f(x_k), \\, k = 0, \\dots , N$\n\n$\\int_a^b f(x) dx = h * \\sum _{k=1}{N} f(\\delta + (k-1)h)$\n\n$\\delta = a $ -- левых прям.\n\n$\\delta = a+\\frac{h}{2} $ -- средних.\n\n$\\delta = a + h $ -- правых прям.\n\n### Квадратурная формула трапеций.\n\n#### простая\n\n$\\int_a^b f(x) dx = \\frac {b-a}{2} (f(a) + f(b)) \\qquad d = 1$\n\n#### составная\n\n$\\int_a^b f(x) dx = \\frac {b-a}{2N} (f_0 + 2 (f_1 + \\dots + f_{N-1}) + f_N)$\n\n### Квадратурная формула Симсона\n\n#### простая\n\n$\\int_a^b f(x) dx = \\frac {b-a}{6} (f(a) + 4f(\\frac{a+b}{2}) + f(b)) \\qquad d = 3 $\n\n#### составная\n\n$h=\\frac{b-a}{2N} \\qquad [x_{k-1}, x_{k+1}] \\, k = 0, \\dots , N$\n\n$\\int_a^b f(x) dx = \\frac {b-a}{6N} (f_0 + 4(f_1 + f_3 + \\cdots + f_{2N-1}) + 2(f_2 + f_4 + \\cdots + f_{2N-2}) + f_{2N})$\n\n### Оценка погрешности\n\n$\\exists f^{(d+1)}\\in C[a,b]$\n\n$| R_N (f) | = C(b-a)(\\frac{b-a}{N})^[d+1} M_{d+1}$\n\n$M_{d+1} = \\max_{\\xi \\in [a,b]}|f^{d+1}(\\xi)|$\n\n$C = 1/2$ -- для левых и правых\n\n$C = 1/24$ -- для средних\n\n$C = 1/12$ -- для трапеций\n\n$C = 1/2880$ -- для Симсона\n\n### Задача\n\nвариант $C = 4$\n\n$N$ -- параметр программы\n\n$\\int_0^1 \\frac {1}{x^2 + C} dx$\n\n1) Находим приближенное значение интеграла по всем 5 формулам.\n1') Точное значение считаем\n2) Считаем абсолютную погрешность.\n3) Оцениваем теоретическую\n"
    },
    {
      "metadata": {
        "trusted": true
      },
      "cell_type": "code",
      "source": "",
      "execution_count": null,
      "outputs": []
    }
  ],
  "metadata": {
    "kernelspec": {
      "name": "ifsharp",
      "display_name": "F#",
      "language": "fsharp"
    },
    "language_info": {
      "mimetype": "text/x-fsharp",
      "nbconvert_exporter": "",
      "name": "fsharp",
      "pygments_lexer": "",
      "version": "4.3.1.0",
      "file_extension": ".fs",
      "codemirror_mode": ""
    },
    "language": "fsharp"
  },
  "nbformat": 4,
  "nbformat_minor": 2
}