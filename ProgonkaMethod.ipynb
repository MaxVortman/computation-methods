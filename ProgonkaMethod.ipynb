{
 "cells": [
  {
   "cell_type": "markdown",
   "metadata": {},
   "source": [
    "# Метод прогонки"
   ]
  },
  {
   "cell_type": "markdown",
   "metadata": {},
   "source": [
    "б)"
   ]
  },
  {
   "cell_type": "code",
   "execution_count": 1,
   "metadata": {},
   "outputs": [],
   "source": [
    "import numpy as np"
   ]
  },
  {
   "cell_type": "code",
   "execution_count": 3,
   "metadata": {},
   "outputs": [],
   "source": [
    "m = 1\n",
    "alpha = 0.2 * m\n",
    "p = lambda x: 1\n",
    "q = lambda x: 0\n",
    "r = lambda x: -2 * alpha ** 2 / ((1 + alpha * x) ** 2)\n",
    "f = lambda x: 9 * alpha ** 2 / (2 * (alpha * x + 1) ** 1.5)\n",
    "alpha0 = alpha\n",
    "alpha1 = -2\n",
    "A = 0\n",
    "beta0 = 0\n",
    "beta1 = 1\n",
    "B = -alpha / np.sqrt(alpha + 1)"
   ]
  },
  {
   "cell_type": "code",
   "execution_count": 19,
   "metadata": {},
   "outputs": [],
   "source": [
    "a = 0\n",
    "b = 1\n",
    "n = 20\n",
    "h = (b - a) / n\n",
    "xi = lambda i: a + i * h"
   ]
  },
  {
   "cell_type": "markdown",
   "metadata": {},
   "source": [
    "Первый способ"
   ]
  },
  {
   "cell_type": "code",
   "execution_count": 20,
   "metadata": {},
   "outputs": [],
   "source": [
    "b0 = h * alpha0 - alpha1\n",
    "c0 = alpha1\n",
    "d0 = h * A\n",
    "ai = lambda i: p(xi(i)) - h * q(xi(i)) / 2\n",
    "bi = lambda i: -2 * p(xi(i)) + h ** 2 * r(xi(i))\n",
    "ci = lambda i: p(xi(i)) + h * q(xi(i)) / 2\n",
    "di = lambda i: h ** 2 * f(xi(i))\n",
    "an = -beta1\n",
    "bn = h * beta0 + beta1\n",
    "dn = h * B"
   ]
  },
  {
   "cell_type": "code",
   "execution_count": 21,
   "metadata": {},
   "outputs": [],
   "source": [
    "m1 = -c0 / b0\n",
    "k1 = d0 / b0\n",
    "m = lambda i: -ci(i) / (bi(i) + ai(i) * m(i - 1)) if i != 1 else m1\n",
    "k = lambda i: (-ai(i) * k(i - 1) + di(i)) / (bi(i) + ai(i) * m(i - 1)) if i != 1 else k1"
   ]
  },
  {
   "cell_type": "code",
   "execution_count": 31,
   "metadata": {},
   "outputs": [],
   "source": [
    "yn = (-an * k(n) + dn) / (bn + an * m(n))\n",
    "y = lambda i: m(i + 1) * y(i + 1) + k(i + 1) if i != n else yn"
   ]
  },
  {
   "cell_type": "code",
   "execution_count": 23,
   "metadata": {},
   "outputs": [
    {
     "data": {
      "text/plain": [
       "[-1.996848180820878,\n",
       " -2.006832421724982,\n",
       " -2.0167656137653016,\n",
       " -2.0266485211438474,\n",
       " -2.0364818889033156,\n",
       " -2.046266443595494,\n",
       " -2.0560028939199033,\n",
       " -2.065691931334284,\n",
       " -2.075334230638431,\n",
       " -2.0849304505327857,\n",
       " -2.094481234153117,\n",
       " -2.1039872095825154,\n",
       " -2.113448990341892,\n",
       " -2.122867175860056,\n",
       " -2.1322423519244116,\n",
       " -2.141575091113244,\n",
       " -2.1508659532105048,\n",
       " -2.160115485603955,\n",
       " -2.1693242236674837,\n",
       " -2.1784926911283535,\n",
       " -2.1876214004201064]"
      ]
     },
     "execution_count": 23,
     "metadata": {},
     "output_type": "execute_result"
    }
   ],
   "source": [
    "[y(i) for i in range(0, n + 1)]"
   ]
  },
  {
   "cell_type": "code",
   "execution_count": 24,
   "metadata": {},
   "outputs": [],
   "source": [
    "y_reali = lambda i: -2 * np.sqrt(alpha * xi(i) + 1)"
   ]
  },
  {
   "cell_type": "code",
   "execution_count": 30,
   "metadata": {},
   "outputs": [
    {
     "data": {
      "text/plain": [
       "0.0032688296005578543"
      ]
     },
     "execution_count": 30,
     "metadata": {},
     "output_type": "execute_result"
    }
   ],
   "source": [
    "max([np.abs(y(i) - y_reali(i)) for i in range(0, n + 1)])"
   ]
  },
  {
   "cell_type": "markdown",
   "metadata": {},
   "source": [
    "Второй способ"
   ]
  },
  {
   "cell_type": "code",
   "execution_count": 26,
   "metadata": {},
   "outputs": [],
   "source": [
    "b0 = alpha0 * h + (ai(1) / ci(1) - 3) * alpha1 / 2\n",
    "c0 = alpha1 * 2 + alpha1 * bi(1) / ci(1) / 2\n",
    "d0 = h * A + alpha1 * di(1) / ci(1) / 2\n",
    "\n",
    "an = -2 * beta1 - beta1 * bi(n - 1) / ai(n - 1) / 2\n",
    "bn = beta0 * h + 1.5 * beta1 - beta1 * ci(n - 1) / ai(n - 1) / 2\n",
    "dn = h * B - beta1 * di(n - 1) / ci(n - 1) / 2"
   ]
  },
  {
   "cell_type": "code",
   "execution_count": 33,
   "metadata": {},
   "outputs": [],
   "source": [
    "yn = (-an * k(n) + dn) / (bn + an * m(n))"
   ]
  },
  {
   "cell_type": "code",
   "execution_count": 34,
   "metadata": {},
   "outputs": [
    {
     "data": {
      "text/plain": [
       "[-1.9991780050296142,\n",
       " -2.009173895054762,\n",
       " -2.0191191863263382,\n",
       " -2.029014636629715,\n",
       " -2.038860984835368,\n",
       " -2.04865895155576,\n",
       " -2.0584092397730966,\n",
       " -2.068112535439537,\n",
       " -2.0777695080513165,\n",
       " -2.08738081119816,\n",
       " -2.0969470830892716,\n",
       " -2.1064689470571127,\n",
       " -2.1159470120401167,\n",
       " -2.1253818730453897,\n",
       " -2.1347741115924195,\n",
       " -2.144124296138734,\n",
       " -2.1534329824883973,\n",
       " -2.162700714184185,\n",
       " -2.171928022884234,\n",
       " -2.1811154287239045,\n",
       " -2.1902634406635686]"
      ]
     },
     "execution_count": 34,
     "metadata": {},
     "output_type": "execute_result"
    }
   ],
   "source": [
    "[y(i) for i in range(0, n + 1)]"
   ]
  },
  {
   "cell_type": "code",
   "execution_count": 35,
   "metadata": {},
   "outputs": [
    {
     "data": {
      "text/plain": [
       "0.0008219949703858198"
      ]
     },
     "execution_count": 35,
     "metadata": {},
     "output_type": "execute_result"
    }
   ],
   "source": [
    "max([np.abs(y(i) - y_reali(i)) for i in range(0, n + 1)])"
   ]
  },
  {
   "cell_type": "code",
   "execution_count": null,
   "metadata": {},
   "outputs": [],
   "source": []
  }
 ],
 "metadata": {
  "kernelspec": {
   "display_name": "Python 3",
   "language": "python",
   "name": "python3"
  },
  "language_info": {
   "codemirror_mode": {
    "name": "ipython",
    "version": 3
   },
   "file_extension": ".py",
   "mimetype": "text/x-python",
   "name": "python",
   "nbconvert_exporter": "python",
   "pygments_lexer": "ipython3",
   "version": "3.6.7"
  }
 },
 "nbformat": 4,
 "nbformat_minor": 2
}
