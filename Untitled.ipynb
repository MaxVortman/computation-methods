{
 "cells": [
  {
   "cell_type": "markdown",
   "metadata": {},
   "source": [
    "# Численное решение задачи Коши для обыкновенного дифференциального уравнения первого порядка"
   ]
  },
  {
   "cell_type": "markdown",
   "metadata": {},
   "source": [
    "$y' = f(x, y), \\, x \\in [x_0, b] \\\\\n",
    "y(x_0) = y_0$\n",
    "\n",
    "Предполагаем, что решение единственное.\n",
    "\n",
    "$y(x) = y_0 + \\int_x_0 ^x f(t, y(t)) dt $\n",
    "\n",
    "$x_i = x_0 + ih, \\, i = 0 \\dots N, \\, h = \\frac {b - x_0}{N}$\n",
    "\n",
    "$y_i $ -- приближенное значение\n",
    "\n",
    "$y(x_i) $ -- точное решение"
   ]
  },
  {
   "cell_type": "markdown",
   "metadata": {},
   "source": [
    "# Одношаговые методы"
   ]
  },
  {
   "cell_type": "markdown",
   "metadata": {},
   "source": [
    "## Метод Эйлера\n",
    "\n",
    "Считаем интерграл по формуле левых прямоугольников.\n",
    "\n",
    "$y_{i+1} = y_i + \\int_x_i^{x_i+h} f(t, y(t))dt = y_i + h f(x_i,y_i), \\, i = 0, \\dots N-1$\n",
    "\n",
    "Погрешность h:\n",
    "\n",
    "$max_{i=1,\\dots N-1}|y(x_i)-y_i| <= C h$"
   ]
  },
  {
   "cell_type": "markdown",
   "metadata": {},
   "source": [
    "## Улучшенные методы\n",
    "\n",
    "### Квадратурная формула средних прямоугольников\n",
    "\n",
    "$x_{i + \\frac 1 2} = x_i + \\frac h 2$\n",
    "\n",
    "$y_{i + \\frac 1 2} = y_i + \\frac h 2 f(x_i, y_i)$\n",
    "\n",
    "$y_{i+1}=y_i + h f(x_{i+\\frac 1 2}, y_{i + \\frac 1 2}) = y_i + h f( x_i + \\frac h 2, y_i + \\frac h 2 f(x_i, y_i))$\n",
    "\n",
    "### Формула трапеции\n",
    "\n",
    "Сначала в точке $x_{i+1}$ считаем по формуле Эйлера, потом по формуле трапеции\n",
    "\n",
    "$\\under{y_{i+1}} = y_i + h f(x_i, y_i)$\n",
    "\n",
    "$y_{i+1} = y_0 + \\frac h 2 [f.....]$\n",
    "\n",
    "Точность порядка $h^2$\n",
    "\n",
    "$max_{i=1,\\dots N-1}|y(x_i)-y_i| <= C h^2$"
   ]
  },
  {
   "cell_type": "markdown",
   "metadata": {},
   "source": [
    "## Метод унтикута?\n",
    "\n",
    "$y_{i+1} = y_i + \\frac 1 6 (k_1 + 2k_2 + 2k_3 + k_4)$\n",
    "\n",
    "$k_1 = hf(x_i, y_i)$\n",
    "\n",
    "$k_2 = hf(x_i + \\frac h 2, y_i + \\frac {k_i} 2)$\n",
    "\n",
    "$k_3 = hf(x_i + \\frac h 2, y_i + \\frac {k_2} 2)$\n",
    "\n",
    "$k_4 = hf(x_i + h, y_i + k_3)$\n",
    "\n",
    "Если $f(x,y) = f(x)$, то $k_2 = k_3$ , тогда совпадает с Эйлером, если интеграл считать по формуле Симсона.\n",
    "\n",
    "$max_{i=1,\\dots N-1}|y(x_i)-y_i| <= C h^4$"
   ]
  },
  {
   "cell_type": "markdown",
   "metadata": {},
   "source": [
    "# Многошаговые"
   ]
  },
  {
   "cell_type": "markdown",
   "metadata": {},
   "source": [
    "## Экстропаляционный метод Адамса\n",
    "\n",
    "Предполагаем, что даны равноотстоящие узлы.\n",
    "\n",
    "Значения в точках:\n",
    "\n",
    "$x_0, x_1, \\dots x_k , \\, 0 < k < N \\qquart x_i -> y_i$\n",
    "\n",
    "Досчитываем значения до $y_k$\n",
    "\n",
    "И вычисляем дальше для $x_j \\, j>=k+1$\n",
    "\n",
    "Сдвинем, пусть ищем $y_0, y_1, \\dots y_i, \\, i >= k,\\, i < N$\n",
    "\n",
    "$y_{i+1}=y_i + \\int _{x_i}^{x_{i+1}} f(x, y(x))dx$\n",
    "\n",
    "Строим полином из конца таблицы.\n",
    "\n",
    "$t = \\frac {\\displaystyle x - x_m} {\\displaystyle h} \\qquard t\\in [0,1]$\n",
    "\n",
    "$P_k(x) = P_k(x_i+t \\cdot h)=\\sum_{j=0}^{k}\\frac{\\displaystyle t(t+1)\\dots(t+j-1)}{\\displaystyle j!}\\Delta^{j}f(x_{i-j}, y_{i-j})$\n",
    "\n",
    "$\\Delta^{j}f(x_{i-j}, y_{i-j}) = \\Delta^{j-1} f(x_{i-j+1}, y_{i-j+1}) - \\Delta^{j-1} f(x_{i-j}, y_{i-j})$\n",
    "\n",
    "$\\int _{x_i}^{x_{i}+h} f(x, y(x))dx = h \\sum_{j=0}^k \\int _0 ^1 \\frac {t(t+1) \\dots (t_j-1)}{j!} \\Delta ^j f(x_{i-j}, y_{i-j})$\n",
    "\n",
    "$y_{i+1} = y_i + h \\sum_{j=0}^k a_j \\Delta ^j f(x_{i-j}, y_{i-j})$\n",
    "\n",
    "$max_{i=1,\\dots N-1}|y(x_i)-y_i| <= C h^{k+1}$\n",
    "\n",
    "$k=4 \\, q_j = h f(x_j, y_j)$\n",
    "\n",
    "$y_{i+1} = y_i + q_i + \\frac 1 2 \\Delta q_{i-1} + \\frac 5 12 \\Delta^2 q_{i-2} + \\frac 3 8 \\Delta^3 q_{i-3} + \\frac 251 720 \\Delta^4 q_{i-4}$"
   ]
  },
  {
   "cell_type": "markdown",
   "metadata": {},
   "source": [
    "### Задача:\n",
    "\n",
    "$y' = \\frac {x+y}{y-x} \\, y(0) = 1$\n",
    "\n",
    "1) N -- параметр $y(x_0) = y_0 \\, x\\in[x_0, x_0 + 1]$\n",
    "\n",
    "2) Считаем по всем методам приближенное значение\n",
    "\n",
    "3) На экран фактическая погрешность в каждой точке. Какой метод приближает лучше?"
   ]
  },
  {
   "cell_type": "code",
   "execution_count": null,
   "metadata": {},
   "outputs": [],
   "source": []
  }
 ],
 "metadata": {
  "kernelspec": {
   "display_name": "F#",
   "language": "fsharp",
   "name": "ifsharp"
  },
  "language": "fsharp",
  "language_info": {
   "codemirror_mode": "",
   "file_extension": ".fs",
   "mimetype": "text/x-fsharp",
   "name": "fsharp",
   "nbconvert_exporter": "",
   "pygments_lexer": "",
   "version": "4.3.1.0"
  }
 },
 "nbformat": 4,
 "nbformat_minor": 2
}
