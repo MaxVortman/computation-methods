{
 "cells": [
  {
   "cell_type": "markdown",
   "metadata": {},
   "source": [
    "# Проекционные методы, метод Ритца"
   ]
  },
  {
   "cell_type": "markdown",
   "metadata": {},
   "source": [
    "## Вариант 4"
   ]
  },
  {
   "cell_type": "code",
   "execution_count": 1,
   "metadata": {},
   "outputs": [],
   "source": [
    "import numpy as np"
   ]
  },
  {
   "cell_type": "code",
   "execution_count": 2,
   "metadata": {},
   "outputs": [],
   "source": [
    "p = lambda x: 1 / (2 * np.sin(x) + 3)\n",
    "r = lambda x: 2 - x ** 2 / 2\n",
    "f = lambda x: 1 + x"
   ]
  },
  {
   "cell_type": "code",
   "execution_count": 3,
   "metadata": {},
   "outputs": [],
   "source": [
    "from scipy.special import jacobi"
   ]
  },
  {
   "cell_type": "code",
   "execution_count": 4,
   "metadata": {},
   "outputs": [],
   "source": [
    "n = 3"
   ]
  },
  {
   "cell_type": "code",
   "execution_count": 5,
   "metadata": {},
   "outputs": [],
   "source": [
    "wn = [lambda x: 1 + x] + list(map(lambda k: lambda x: (1 - x ** 2) * jacobi(int(k), 1, 1)(x), list(range(n - 1))))"
   ]
  },
  {
   "cell_type": "code",
   "execution_count": 6,
   "metadata": {},
   "outputs": [],
   "source": [
    "from scipy.integrate import quad\n",
    "def integral(F):\n",
    "    return quad(F, -1, 1)[0]"
   ]
  },
  {
   "cell_type": "code",
   "execution_count": 7,
   "metadata": {},
   "outputs": [],
   "source": [
    "from scipy.misc import derivative\n",
    "def derivate(f):\n",
    "    return lambda x: derivative(f, x, dx=1e-6)"
   ]
  },
  {
   "cell_type": "code",
   "execution_count": 8,
   "metadata": {},
   "outputs": [],
   "source": [
    "def energy_scalar(y, z):\n",
    "    global p, r\n",
    "    return integral(lambda x: p(x) * derivate(y)(x) * derivate(z)(x) + r(x) * y(x) * z(x))"
   ]
  },
  {
   "cell_type": "code",
   "execution_count": 9,
   "metadata": {},
   "outputs": [],
   "source": [
    "def scalar_L2(y, z):\n",
    "    return integral(lambda x: y(x) * z(x))"
   ]
  },
  {
   "cell_type": "code",
   "execution_count": 10,
   "metadata": {},
   "outputs": [],
   "source": [
    "def get_aj(wn, f):\n",
    "    b = np.array([scalar_L2(f, wk) for wk in wn]).reshape(-1, 1)\n",
    "    print(b)\n",
    "    A = np.array([[energy_scalar(wj, wk) for wj in wn] for wk in wn])\n",
    "    print(A)\n",
    "    return np.linalg.solve(A, b)"
   ]
  },
  {
   "cell_type": "code",
   "execution_count": 11,
   "metadata": {},
   "outputs": [
    {
     "name": "stdout",
     "output_type": "stream",
     "text": [
      "[[2.66666667]\n",
      " [1.33333333]\n",
      " [0.53333333]]\n",
      "[[ 5.56892833  2.87367832  0.78772536]\n",
      " [ 2.87367832  3.19215102 -0.57188506]\n",
      " [ 0.78772536 -0.57188506  3.76635242]]\n"
     ]
    },
    {
     "data": {
      "text/plain": [
       "array([[ 0.47315903],\n",
       "       [-0.00063948],\n",
       "       [ 0.04254733]])"
      ]
     },
     "execution_count": 11,
     "metadata": {},
     "output_type": "execute_result"
    }
   ],
   "source": [
    "aj = get_aj(wn, f)\n",
    "aj"
   ]
  },
  {
   "cell_type": "code",
   "execution_count": 12,
   "metadata": {},
   "outputs": [],
   "source": [
    "yn = lambda x: np.sum([aj[j] * wn[j](x) for j in range(len(wn))])"
   ]
  },
  {
   "cell_type": "code",
   "execution_count": 13,
   "metadata": {},
   "outputs": [],
   "source": [
    "y3 = [yn(i) for i in np.arange(-1, 1.25, 0.25)]"
   ]
  },
  {
   "cell_type": "code",
   "execution_count": 14,
   "metadata": {},
   "outputs": [],
   "source": [
    "n = 6"
   ]
  },
  {
   "cell_type": "code",
   "execution_count": 15,
   "metadata": {},
   "outputs": [],
   "source": [
    "wn = [lambda x: 1 + x] + list(map(lambda k: lambda x: (1 - x ** 2) * jacobi(int(k), 1, 1)(x), list(range(n - 1))))"
   ]
  },
  {
   "cell_type": "code",
   "execution_count": 16,
   "metadata": {},
   "outputs": [
    {
     "name": "stdout",
     "output_type": "stream",
     "text": [
      "[[ 2.66666667e+00]\n",
      " [ 1.33333333e+00]\n",
      " [ 5.33333333e-01]\n",
      " [ 9.71445147e-17]\n",
      " [-7.63278329e-17]\n",
      " [-8.32667268e-17]]\n",
      "[[ 5.56892833e+00  2.87367832e+00  7.87725359e-01 -8.01193611e-02\n",
      "  -5.09332909e-02 -3.68042873e-03]\n",
      " [ 2.87367832e+00  3.19215102e+00 -5.71885059e-01 -2.83418355e-01\n",
      "  -3.72219634e-02  2.15752762e-02]\n",
      " [ 7.87725359e-01 -5.71885059e-01  3.76635242e+00 -1.08244529e+00\n",
      "  -4.13122652e-02 -6.45366546e-02]\n",
      " [-8.01193611e-02 -2.83418355e-01 -1.08244529e+00  5.08646246e+00\n",
      "  -1.60088612e+00  1.82359706e-01]\n",
      " [-5.09332909e-02 -3.72219634e-02 -4.13122652e-02 -1.60088612e+00\n",
      "   6.53663710e+00 -2.12125777e+00]\n",
      " [-3.68042873e-03  2.15752762e-02 -6.45366546e-02  1.82359706e-01\n",
      "  -2.12125777e+00  8.04959195e+00]]\n"
     ]
    },
    {
     "data": {
      "text/plain": [
       "array([[0.46815342],\n",
       "       [0.00746689],\n",
       "       [0.05126062],\n",
       "       [0.021832  ],\n",
       "       [0.0102758 ],\n",
       "       [0.00281833]])"
      ]
     },
     "execution_count": 16,
     "metadata": {},
     "output_type": "execute_result"
    }
   ],
   "source": [
    "aj = get_aj(wn, f)\n",
    "aj"
   ]
  },
  {
   "cell_type": "code",
   "execution_count": 17,
   "metadata": {},
   "outputs": [],
   "source": [
    "yn = lambda x: np.sum([aj[j] * wn[j](x) for j in range(len(wn))])"
   ]
  },
  {
   "cell_type": "code",
   "execution_count": 18,
   "metadata": {},
   "outputs": [],
   "source": [
    "y6 = [yn(i) for i in np.arange(-1, 1.25, 0.25)]"
   ]
  },
  {
   "cell_type": "code",
   "execution_count": 20,
   "metadata": {},
   "outputs": [
    {
     "data": {
      "text/plain": [
       "array([0.        , 0.00622249, 0.00336012, 0.004279  , 0.01151178,\n",
       "       0.0109561 , 0.00179088, 0.0164723 , 0.01001122])"
      ]
     },
     "execution_count": 20,
     "metadata": {},
     "output_type": "execute_result"
    }
   ],
   "source": [
    "np.abs(np.array(y6) - np.array(y3))"
   ]
  },
  {
   "cell_type": "code",
   "execution_count": null,
   "metadata": {},
   "outputs": [],
   "source": []
  }
 ],
 "metadata": {
  "kernelspec": {
   "display_name": "Python 3",
   "language": "python",
   "name": "python3"
  },
  "language_info": {
   "codemirror_mode": {
    "name": "ipython",
    "version": 3
   },
   "file_extension": ".py",
   "mimetype": "text/x-python",
   "name": "python",
   "nbconvert_exporter": "python",
   "pygments_lexer": "ipython3",
   "version": "3.6.7"
  }
 },
 "nbformat": 4,
 "nbformat_minor": 2
}
