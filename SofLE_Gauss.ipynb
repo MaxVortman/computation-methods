{
 "cells": [
  {
   "cell_type": "code",
   "execution_count": 31,
   "metadata": {},
   "outputs": [],
   "source": [
    "import numpy as np\n",
    "import numpy.linalg as linalg\n",
    "\n",
    "import warnings\n",
    "warnings.filterwarnings('ignore')"
   ]
  },
  {
   "cell_type": "code",
   "execution_count": 32,
   "metadata": {},
   "outputs": [],
   "source": [
    "def gauss2(A, b):\n",
    "    a12_1 = A[0, 1] / A[0, 0]\n",
    "    b1_1 = b[0] / A[0, 0]\n",
    "    a22_1 = A[1, 1] - A[1, 0] * a12_1\n",
    "    b2_1 = b[1] - A[1, 0] * b1_1\n",
    "    b2_2 = b2_1 / a22_1\n",
    "    x2 = b2_2\n",
    "    x1 = b1_1 - a12_1 * x2\n",
    "    return np.array([x1, x2])"
   ]
  },
  {
   "cell_type": "code",
   "execution_count": 33,
   "metadata": {},
   "outputs": [],
   "source": [
    "def gaussWithMainElem(M):\n",
    "    n, _ = M.shape\n",
    "    bflags = [[False for _ in range(n + 1)] for _ in range(n)]\n",
    "    for k in range(n):\n",
    "        main_elem_i = 0\n",
    "        main_elem_j = 0\n",
    "        for i in range(n):\n",
    "            for j in range(n):\n",
    "                if not bflags[i][j] and M[main_elem_i, main_elem_j] < abs(M[i, j]):\n",
    "                    main_elem_i = i\n",
    "                    main_elem_j = j\n",
    "        m = []\n",
    "        for i in range(n):\n",
    "            m.append(M[i, main_elem_j] / M[main_elem_i, main_elem_j])\n",
    "        for i in range(n):\n",
    "            if i != main_elem_i:\n",
    "                for j in range(n + 1):\n",
    "                    if not bflags[i][j]:\n",
    "                        M[i, j] -= M[main_elem_i, j] * m[i]\n",
    "        for i in range(n):\n",
    "            bflags[i][main_elem_j] = True\n",
    "            bflags[main_elem_i][i] = True\n",
    "        bflags[main_elem_i][n] = True\n",
    "    super_threshold_indices = np.abs(M) < 10 ** -4\n",
    "    M[super_threshold_indices] = 0\n",
    "\n",
    "    zero_count = [np.count_nonzero(M[i]) for i in range(n)]\n",
    "    M = np.array([x for _, x in sorted(zip(zero_count, M), key=lambda pair: pair[0])])\n",
    "\n",
    "    x = [None] * n\n",
    "    for i in range(n):\n",
    "        a = 0\n",
    "        x_index = -1\n",
    "        for j in range(n):\n",
    "            if M[i, j] != 0:\n",
    "                if x[j] is None:\n",
    "                    x_index = j\n",
    "                else:\n",
    "                    a += x[j] * M[i, j]\n",
    "        x[x_index] = (M[i, n] - a) / M[i, x_index]\n",
    "\n",
    "    return x"
   ]
  },
  {
   "cell_type": "markdown",
   "metadata": {},
   "source": [
    "## Задание А\n",
    "\n",
    "$k = 6$"
   ]
  },
  {
   "cell_type": "code",
   "execution_count": 34,
   "metadata": {},
   "outputs": [],
   "source": [
    "k = 6\n",
    "M1 = np.array([\n",
    "    [10 ** -5, 1, 2 + 0.1 * 6],\n",
    "    [2, 0.5, 0.543]\n",
    "])\n",
    "M2 = np.array([\n",
    "    [10 ** -5, 1 + 0.1 * k, 2],\n",
    "    [2, 0.5, 8.765]\n",
    "])"
   ]
  },
  {
   "cell_type": "code",
   "execution_count": 35,
   "metadata": {},
   "outputs": [
    {
     "data": {
      "text/plain": [
       "[-0.37850094624445774, 2.600003785009463]"
      ]
     },
     "execution_count": 35,
     "metadata": {},
     "output_type": "execute_result"
    }
   ],
   "source": [
    "gauss2(M1[:, :2], M1[:, 2]).tolist()"
   ]
  },
  {
   "cell_type": "code",
   "execution_count": 36,
   "metadata": {},
   "outputs": [
    {
     "data": {
      "text/plain": [
       "[-0.3785009462523657, 2.600003785009463]"
      ]
     },
     "execution_count": 36,
     "metadata": {},
     "output_type": "execute_result"
    }
   ],
   "source": [
    "gaussWithMainElem(M1)"
   ]
  },
  {
   "cell_type": "code",
   "execution_count": 37,
   "metadata": {},
   "outputs": [
    {
     "data": {
      "text/plain": [
       "[4.0700063593976665, 1.2499745624602536]"
      ]
     },
     "execution_count": 37,
     "metadata": {},
     "output_type": "execute_result"
    }
   ],
   "source": [
    "gauss2(M2[:, :2], M2[:, 2]).tolist()"
   ]
  },
  {
   "cell_type": "code",
   "execution_count": 38,
   "metadata": {},
   "outputs": [
    {
     "data": {
      "text/plain": [
       "[4.070006359384937, 1.2499745624602536]"
      ]
     },
     "execution_count": 38,
     "metadata": {},
     "output_type": "execute_result"
    }
   ],
   "source": [
    "gaussWithMainElem(M2)"
   ]
  },
  {
   "cell_type": "markdown",
   "metadata": {},
   "source": [
    "## Задание Б"
   ]
  },
  {
   "cell_type": "markdown",
   "metadata": {},
   "source": [
    "### 1)\n",
    "\n",
    "$k = 6$"
   ]
  },
  {
   "cell_type": "code",
   "execution_count": 39,
   "metadata": {},
   "outputs": [],
   "source": [
    "D = np.array([\n",
    "    [3, 1, 2, 4],\n",
    "    [-5, 2, 6, 7],\n",
    "    [0, 3, 4, 1],\n",
    "    [0, 0, -5, -6]\n",
    "])\n",
    "C = np.array([\n",
    "    [-0.9, 0.7, 0.8, -0.5],\n",
    "    [0.6, -0.5, 0.4, 0.3],\n",
    "    [0, 0.3, 0.8, -0.9],\n",
    "    [0, 0, 0.7, 0.6]\n",
    "])\n",
    "A = D + k * C\n",
    "b = np.array([4, -13, 1, -5]).T"
   ]
  },
  {
   "cell_type": "code",
   "execution_count": 40,
   "metadata": {},
   "outputs": [
    {
     "data": {
      "text/plain": [
       "array([[-2.4,  5.2,  6.8,  1. ],\n",
       "       [-1.4, -1. ,  8.4,  8.8],\n",
       "       [ 0. ,  4.8,  8.8, -4.4],\n",
       "       [ 0. ,  0. , -0.8, -2.4]])"
      ]
     },
     "execution_count": 40,
     "metadata": {},
     "output_type": "execute_result"
    }
   ],
   "source": [
    "A"
   ]
  },
  {
   "cell_type": "code",
   "execution_count": 41,
   "metadata": {},
   "outputs": [
    {
     "data": {
      "text/plain": [
       "[8.283955324302504, 7.072642863550734, -2.316430429712031, 2.8554768099040113]"
      ]
     },
     "execution_count": 41,
     "metadata": {},
     "output_type": "execute_result"
    }
   ],
   "source": [
    "gaussWithMainElem(np.column_stack([A, b]))"
   ]
  },
  {
   "cell_type": "code",
   "execution_count": 47,
   "metadata": {},
   "outputs": [
    {
     "data": {
      "text/plain": [
       "[8.283955324302502, 7.072642863550732, -2.3164304297120304, 2.8554768099040104]"
      ]
     },
     "execution_count": 47,
     "metadata": {},
     "output_type": "execute_result"
    }
   ],
   "source": [
    "linalg.solve(A, b).tolist()"
   ]
  },
  {
   "cell_type": "markdown",
   "metadata": {},
   "source": [
    "### 2) е"
   ]
  },
  {
   "cell_type": "code",
   "execution_count": 44,
   "metadata": {},
   "outputs": [
    {
     "data": {
      "text/plain": [
       "[0.9626459402598427, 1.2040973844744598, 1.2035951250479324]"
      ]
     },
     "execution_count": 44,
     "metadata": {},
     "output_type": "execute_result"
    }
   ],
   "source": [
    "M = np.array([  [0.82816 * 10 ** -4, -0.45368, 4.76448, 5.18823],\n",
    "                [0.76816, -0.45368, 1.99448, 2.59372],\n",
    "                [1.04816 * 10 ** -4, 1.14632, 1.44448, 3.11885]])\n",
    "x = gaussWithMainElem(M)\n",
    "x"
   ]
  },
  {
   "cell_type": "code",
   "execution_count": 46,
   "metadata": {},
   "outputs": [
    {
     "data": {
      "text/plain": [
       "[0.9626459402598427, 1.2040973844744598, 1.2035951250479324]"
      ]
     },
     "execution_count": 46,
     "metadata": {},
     "output_type": "execute_result"
    }
   ],
   "source": [
    "linalg.solve(M[:, :3], M[:, 3]).tolist()"
   ]
  },
  {
   "cell_type": "code",
   "execution_count": null,
   "metadata": {},
   "outputs": [],
   "source": []
  }
 ],
 "metadata": {
  "kernelspec": {
   "display_name": "Python 3",
   "language": "python",
   "name": "python3"
  },
  "language_info": {
   "codemirror_mode": {
    "name": "ipython",
    "version": 3
   },
   "file_extension": ".py",
   "mimetype": "text/x-python",
   "name": "python",
   "nbconvert_exporter": "python",
   "pygments_lexer": "ipython3",
   "version": "3.6.7"
  }
 },
 "nbformat": 4,
 "nbformat_minor": 2
}
